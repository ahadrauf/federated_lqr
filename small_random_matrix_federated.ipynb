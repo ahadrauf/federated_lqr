{
 "cells": [
  {
   "cell_type": "code",
   "execution_count": 8,
   "metadata": {},
   "outputs": [
    {
     "name": "stdout",
     "output_type": "stream",
     "text": [
      "The autoreload extension is already loaded. To reload it, use:\n",
      "  %reload_ext autoreload\n"
     ]
    }
   ],
   "source": [
    "%load_ext autoreload\n",
    "%autoreload 2"
   ]
  },
  {
   "cell_type": "code",
   "execution_count": 10,
   "metadata": {},
   "outputs": [],
   "source": [
    "# derived from https://github.com/cvxgrp/lfd_lqr/blob/master/small%20random.ipynb\n",
    "import numpy as np\n",
    "from scipy.linalg import solve_discrete_are\n",
    "import cvxpy as cp\n",
    "from ADMM import *\n",
    "import warnings\n",
    "# warnings.filterwarnings('ignore')"
   ]
  },
  {
   "cell_type": "code",
   "execution_count": 3,
   "metadata": {},
   "outputs": [],
   "source": [
    "np.random.seed(0)\n",
    "n, m = 4, 2\n",
    "A = np.random.randn(n, n)\n",
    "A = A / np.abs(np.linalg.eig(A)[0]).max()\n",
    "B = np.random.randn(n, m)\n",
    "W = .25 * np.eye(n)\n",
    "Q_true = np.eye(n)\n",
    "R_true = np.eye(m)\n",
    "P_true = solve_discrete_are(A, B, Q_true, R_true)\n",
    "K_true = -np.linalg.solve(R_true + B.T @ P_true @ B, B.T @ P_true @ A)"
   ]
  },
  {
   "cell_type": "code",
   "execution_count": 4,
   "metadata": {},
   "outputs": [],
   "source": [
    "def simulate(K, N=10, seed=None, add_noise=False):\n",
    "    if seed is not None:\n",
    "        np.random.seed(seed)\n",
    "    x = np.random.multivariate_normal(np.zeros(n), W)\n",
    "    xs = []\n",
    "    us = []\n",
    "    cost = 0.0\n",
    "    for _ in range(N):\n",
    "        u = K @ x\n",
    "        if add_noise:\n",
    "            u += 2*np.random.randn(m)\n",
    "        xs.append(x)\n",
    "        us.append(u)\n",
    "        cost += (x @ Q_true @ x + u @ R_true @ u) / N\n",
    "        x = A @ x + B @ u + np.random.multivariate_normal(np.zeros(n), W)\n",
    "    xs = np.array(xs)\n",
    "    us = np.array(us)\n",
    "    \n",
    "    return cost, xs, us"
   ]
  },
  {
   "cell_type": "code",
   "execution_count": 5,
   "metadata": {},
   "outputs": [],
   "source": [
    "def simulate_variable_cost(A, B, Q_true, R_true, N=10, seed=None, add_noise=False):\n",
    "    P_true = solve_discrete_are(A, B, Q_true, R_true)\n",
    "    K = -np.linalg.solve(R_true + B.T @ P_true @ B, B.T @ P_true @ A)\n",
    "    \n",
    "    if seed is not None:\n",
    "        np.random.seed(seed)\n",
    "    x = np.random.multivariate_normal(np.zeros(n), W)\n",
    "    xs = []\n",
    "    us = []\n",
    "    cost = 0.0\n",
    "    for _ in range(N):\n",
    "        u = K @ x\n",
    "        if add_noise:\n",
    "            u += 2*np.random.randn(m)\n",
    "        xs.append(x)\n",
    "        us.append(u)\n",
    "        cost += (x @ Q_true @ x + u @ R_true @ u) / N\n",
    "        x = A @ x + B @ u + np.random.multivariate_normal(np.zeros(n), W)\n",
    "    xs = np.array(xs)\n",
    "    us = np.array(us)\n",
    "    \n",
    "    return cost, xs, us"
   ]
  },
  {
   "cell_type": "code",
   "execution_count": 6,
   "metadata": {},
   "outputs": [
    {
     "data": {
      "text/plain": [
       "(1.7934243186095473, 1.8031177219720185, 64.75750340186758)"
      ]
     },
     "execution_count": 6,
     "metadata": {},
     "output_type": "execute_result"
    }
   ],
   "source": [
    "N_test = 10000\n",
    "cost_true = simulate(K_true, N=N_test, seed=0)[0]\n",
    "cost_noise = simulate(K_true, N=N_test, seed=0, add_noise=True)[0] \n",
    "cost_true, np.trace(P_true @ W), cost_noise"
   ]
  },
  {
   "cell_type": "code",
   "execution_count": 14,
   "metadata": {},
   "outputs": [
    {
     "name": "stderr",
     "output_type": "stream",
     "text": [
      "/home/ahadrauf/anaconda3/envs/fedcontrol/lib/python3.7/site-packages/ipykernel_launcher.py:14: RuntimeWarning: overflow encountered in matmul\n",
      "  \n",
      "/home/ahadrauf/anaconda3/envs/fedcontrol/lib/python3.7/site-packages/ipykernel_launcher.py:14: RuntimeWarning: overflow encountered in double_scalars\n",
      "  \n",
      "/home/ahadrauf/anaconda3/envs/fedcontrol/lib/python3.7/site-packages/ipykernel_launcher.py:15: RuntimeWarning: overflow encountered in add\n",
      "  from ipykernel import kernelapp as app\n",
      "/home/ahadrauf/anaconda3/envs/fedcontrol/lib/python3.7/site-packages/ipykernel_launcher.py:9: RuntimeWarning: overflow encountered in matmul\n",
      "  if __name__ == '__main__':\n",
      "/home/ahadrauf/anaconda3/envs/fedcontrol/lib/python3.7/site-packages/ipykernel_launcher.py:9: RuntimeWarning: invalid value encountered in matmul\n",
      "  if __name__ == '__main__':\n",
      "/home/ahadrauf/anaconda3/envs/fedcontrol/lib/python3.7/site-packages/ipykernel_launcher.py:14: RuntimeWarning: invalid value encountered in matmul\n",
      "  \n"
     ]
    },
    {
     "name": "stdout",
     "output_type": "stream",
     "text": [
      " 006 | 1.793 | 64.758 | 8.913 | 5.063 | 2.633\n"
     ]
    },
    {
     "name": "stderr",
     "output_type": "stream",
     "text": [
      "/home/ahadrauf/anaconda3/envs/fedcontrol/lib/python3.7/site-packages/ipykernel_launcher.py:15: RuntimeWarning: invalid value encountered in matmul\n",
      "  from ipykernel import kernelapp as app\n"
     ]
    },
    {
     "name": "stdout",
     "output_type": "stream",
     "text": [
      " 007 | 1.793 | 64.758 | 14.594 | 4.948 | 5.082\n",
      " 008 | 1.793 | 64.758 | 17.343 | 4.612 | 3.436\n",
      " 009 | 1.793 | 64.758 | 37.219 | 3.014 | 2.939\n",
      " 010 | 1.793 | 64.758 | 8.307 | 2.606 | 2.577\n",
      " 011 | 1.793 | 64.758 | 9.916 | 2.725 | 2.720\n",
      " 012 | 1.793 | 64.758 | 8.598 | 2.129 | 2.088\n",
      " 013 | 1.793 | 64.758 | 8.454 | 2.344 | 2.312\n",
      " 014 | 1.793 | 64.758 | 6.213 | 2.681 | 2.349\n",
      " 015 | 1.793 | 64.758 | 6.211 | 2.958 | 2.577\n"
     ]
    }
   ],
   "source": [
    "costs_lr = []\n",
    "costs_admm = []\n",
    "costs_admm_federated_personalized_same_traj = []\n",
    "\n",
    "Ns = np.arange(6, 16)\n",
    "for N in Ns:\n",
    "    costs_lr += [[]]\n",
    "    costs_admm += [[]]\n",
    "    costs_admm_federated_personalized_same_traj += [[]]\n",
    "    for k in range(1, 6):\n",
    "        _, xs, us = simulate(K_true, N=N, seed=k, add_noise=True)\n",
    "        \n",
    "        \n",
    "\n",
    "        def L(K):\n",
    "            return cp.sum_squares(xs @ K.T - us)\n",
    "\n",
    "        def r(K):\n",
    "            return .01 * cp.sum_squares(K), []\n",
    "        \n",
    "        Klr = policy_fitting(L, r, xs, us)\n",
    "        Kadmm = policy_fitting_with_a_kalman_constraint_local(L, r, xs, us, A, B, n_random=1)\n",
    "        Kadmmpers = policy_fitting_with_a_kalman_constraint_federated_personalized(L, r, xs, us, A, B, n_random=1)\n",
    "        \n",
    "        cost_lr = simulate(Klr, N=N_test, seed=0)[0]\n",
    "        cost_admm = simulate(Kadmm, N=N_test, seed=0)[0]\n",
    "        cost_admmpers = simulate(Kadmmpers, N=N_test, seed=0)[0]\n",
    "        \n",
    "        if np.isnan(cost_lr) or cost_lr > 1e5 or cost_lr == np.inf:\n",
    "            cost_lr = np.nan\n",
    "\n",
    "        costs_lr[-1].append(cost_lr)\n",
    "        costs_admm[-1].append(cost_admm)\n",
    "        costs_admm_federated_personalized_same_traj[-1].append(cost_admmpers)\n",
    "\n",
    "    print (\" %03d | %3.3f | %3.3f | %3.3f | %3.3f | %3.3f\" %\n",
    "           (N, cost_true, cost_noise, np.nanmean(costs_lr[-1]), np.nanmean(costs_admm[-1]), np.nanmean(costs_admm_federated_personalized_same_traj[-1])))"
   ]
  },
  {
   "cell_type": "code",
   "execution_count": 18,
   "metadata": {},
   "outputs": [],
   "source": [
    "costs_lr = np.array(costs_lr)\n",
    "costs_admm = np.array(costs_admm)\n",
    "costs_admm_pers = np.array(costs_admm_federated_personalized_same_traj)\n",
    "mean_lr = np.nanmean(costs_lr, axis=1)\n",
    "std_lr = np.nanstd(costs_lr, axis=1)\n",
    "mean_admm = np.nanmean(costs_admm, axis=1)\n",
    "std_admm = np.nanstd(costs_admm, axis=1)\n",
    "mean_admm_pers = np.nanmean(costs_admm_pers, axis=1)\n",
    "std_admm_pers = np.nanstd(costs_admm_pers, axis=1)"
   ]
  },
  {
   "cell_type": "code",
   "execution_count": 16,
   "metadata": {},
   "outputs": [
    {
     "data": {
      "text/plain": [
       "array([ 8.91268054, 14.59392337, 17.34318975, 37.21852609,  8.307456  ,\n",
       "        9.91621225,  8.59844137,  8.45356521,  6.21348333,  6.21126823])"
      ]
     },
     "execution_count": 16,
     "metadata": {},
     "output_type": "execute_result"
    }
   ],
   "source": [
    "mean_lr"
   ]
  },
  {
   "cell_type": "code",
   "execution_count": 17,
   "metadata": {},
   "outputs": [
    {
     "data": {
      "text/plain": [
       "array([5.06339638, 4.94758551, 4.61217273, 3.01380934, 2.60610146,\n",
       "       2.72475578, 2.12896984, 2.3436215 , 2.6808152 , 2.95810081])"
      ]
     },
     "execution_count": 17,
     "metadata": {},
     "output_type": "execute_result"
    }
   ],
   "source": [
    "mean_admm"
   ]
  },
  {
   "cell_type": "code",
   "execution_count": 19,
   "metadata": {},
   "outputs": [
    {
     "data": {
      "text/plain": [
       "array([2.63335641, 5.08192893, 3.43582677, 2.93878438, 2.57666858,\n",
       "       2.72024275, 2.08788334, 2.31177583, 2.3493319 , 2.57709424])"
      ]
     },
     "execution_count": 19,
     "metadata": {},
     "output_type": "execute_result"
    }
   ],
   "source": [
    "mean_admm_pers"
   ]
  },
  {
   "cell_type": "code",
   "execution_count": 27,
   "metadata": {},
   "outputs": [
    {
     "name": "stdout",
     "output_type": "stream",
     "text": [
      "[[  8.27857423          nan  10.26275903          nan   8.19670835]\n",
      " [  8.82412386          nan  28.55119423          nan   6.40645202]\n",
      " [  2.53279275          nan  23.32904462  38.66861862   4.84230302]\n",
      " [  2.51107349 145.92365633  21.15174196  10.44245469   6.063704  ]\n",
      " [  2.41085579  12.23982854  11.17821786  10.93440936   4.77396843]\n",
      " [  2.34804125  20.97373869  10.96346427  10.26739848   5.02841853]\n",
      " [  3.60376106  18.40854172   8.52104528   5.70385938   6.75499941]\n",
      " [  3.50220174  18.36467166   8.59224587   5.5816801    6.22702665]\n",
      " [  3.24239452   6.56537121   8.99408549   6.47915072   5.78641471]\n",
      " [  3.21971675   5.9697109   10.69416776   6.39291748   4.77982826]]\n",
      "[[ 2.81445351  2.79688758  2.5985965  14.20694057  2.90010373]\n",
      " [ 3.00796425  4.97238222  4.68003257 10.07557839  2.00197011]\n",
      " [ 2.51129243  2.16443415  3.5439101  11.73472105  3.10650595]\n",
      " [ 2.34893798  2.42543953  3.50230784  4.34096971  2.45139163]\n",
      " [ 2.41822717  2.08092619  2.15472349  3.47267377  2.90395666]\n",
      " [ 2.17467295  3.13249637  1.97290954  3.31941535  3.02428472]\n",
      " [ 2.26537963  2.04365087  1.99071664  2.14531159  2.19979047]\n",
      " [ 2.26620429  2.16410469  1.97994869  3.35676272  1.95108713]\n",
      " [ 2.28543578  2.21965718  3.29979585  3.60170835  1.99747886]\n",
      " [ 2.32349685  3.29685539  3.23417869  3.92910098  2.00687216]]\n",
      "[[ 2.98987682  2.52086261  2.76021028  1.92518356  2.97064879]\n",
      " [ 4.08717884  3.4815687   2.39954208 12.58644337  2.85491165]\n",
      " [ 1.98013667  2.16202029  3.94388544  6.56292479  2.53016664]\n",
      " [ 2.31956048  2.46762283  3.70323375  3.38809594  2.81540887]\n",
      " [ 2.40256768  2.06844547  2.20796981  3.31071967  2.89364029]\n",
      " [ 2.17444691  3.05531067  2.01925774  3.33498807  3.01721036]\n",
      " [ 2.2726449   1.86936338  1.97285297  2.11407322  2.21048226]\n",
      " [ 2.09670839  2.16331085  1.99147022  3.35689188  1.95049781]\n",
      " [ 2.23695044  2.34620735  2.02663224  3.13467585  2.00219362]\n",
      " [ 2.22718251  2.98679409  2.04396409  3.61656294  2.01096756]]\n",
      "[ 0.95523451  9.91851271 14.71584523 54.71222002  3.94616624  6.39776053\n",
      "  5.1568939   5.21479552  1.84042979  2.49744411]\n",
      "[4.57283894 2.78593938 3.59288281 0.78797615 0.52048308 0.54359063\n",
      " 0.10028312 0.51981073 0.64298078 0.6987665 ]\n",
      "[0.3927158  3.79534511 1.70872482 0.53045578 0.46126841 0.52300003\n",
      " 0.14888667 0.52795471 0.41329034 0.62857212]\n"
     ]
    }
   ],
   "source": [
    "print(costs_lr)\n",
    "print(costs_admm)\n",
    "print(costs_admm_pers)\n",
    "print(std_lr)\n",
    "print(std_admm)\n",
    "print(std_admm_pers)"
   ]
  },
  {
   "cell_type": "code",
   "execution_count": 38,
   "metadata": {},
   "outputs": [
    {
     "data": {
      "image/png": "[encoded data removed]",
      "text/plain": [
       "<Figure size 432x201.6 with 1 Axes>"
      ]
     },
     "metadata": {
      "needs_background": "light"
     },
     "output_type": "display_data"
    }
   ],
   "source": [
    "from utils import latexify\n",
    "import matplotlib.pyplot as plt\n",
    "\n",
    "plt.close()\n",
    "latexify(fig_width=6, fig_height=2.8)\n",
    "plt.axhline(cost_noise, ls='--', c='k', label='expert')\n",
    "\n",
    "rng = np.arange(6, 16)\n",
    "plt.scatter(rng, mean_lr, s=4, marker='o', c='blue', label='policy fitting')\n",
    "plt.fill_between(rng, mean_lr - std_lr / 3, mean_lr + std_lr / 3, alpha=.5, color='blue')\n",
    "plt.scatter(rng, mean_admm, s=4, marker='*', c='green', label='Palan 2020')\n",
    "plt.fill_between(rng, mean_admm - std_admm / 3, mean_admm + std_admm / 3, alpha=.5, color='green')\n",
    "\n",
    "plt.scatter(rng, mean_admm_pers, s=4, marker='*', c='green', label='ours')\n",
    "plt.fill_between(rng, mean_admm_pers - std_admm_pers / 3, mean_admm_pers + std_admm_pers / 3, alpha=.5, color='orange')\n",
    "\n",
    "plt.semilogy()\n",
    "plt.axhline(cost_true, ls='-', c='k', label='optimal')\n",
    "plt.ylabel('cost')\n",
    "plt.xlabel('trajectory length (\"demonstrations\")')\n",
    "plt.legend()\n",
    "plt.tight_layout()\n",
    "plt.savefig(\"figures/small_random_fed_v1.png\")\n",
    "plt.show()"
   ]
  },
  {
   "cell_type": "code",
   "execution_count": 30,
   "metadata": {},
   "outputs": [],
   "source": [
    "plt.show()"
   ]
  },
  {
   "cell_type": "code",
   "execution_count": 34,
   "metadata": {},
   "outputs": [
    {
     "name": "stderr",
     "output_type": "stream",
     "text": [
      "/home/ahadrauf/anaconda3/envs/fedcontrol/lib/python3.7/_collections_abc.py:841: MatplotlibDeprecationWarning: Support for setting the 'text.latex.preamble' or 'pgf.preamble' rcParam to a list of strings is deprecated since 3.3 and will be removed two minor releases later; set it to a single string instead.\n",
      "  self[key] = other[key]\n"
     ]
    },
    {
     "data": {
      "image/png": "[encoded data removed]",
      "text/plain": [
       "<Figure size 432x144 with 1 Axes>"
      ]
     },
     "metadata": {
      "needs_background": "light"
     },
     "output_type": "display_data"
    }
   ],
   "source": [
    "plt.close()\n",
    "latexify(fig_width=6, fig_height=2)\n",
    "plt.plot(rng, np.isnan(costs_lr).mean(axis=1), c='k')\n",
    "plt.ylim(-.1,1.1)\n",
    "plt.xlabel(\"demonstrations\")\n",
    "plt.ylabel(\"fraction infinite\")\n",
    "plt.tight_layout()\n",
    "plt.savefig(\"figures/inf_small_random.pdf\")"
   ]
  },
  {
   "cell_type": "code",
   "execution_count": null,
   "metadata": {},
   "outputs": [],
   "source": []
  }
 ],
 "metadata": {
  "kernelspec": {
   "display_name": "Python 3",
   "language": "python",
   "name": "python3"
  },
  "language_info": {
   "codemirror_mode": {
    "name": "ipython",
    "version": 3
   },
   "file_extension": ".py",
   "mimetype": "text/x-python",
   "name": "python",
   "nbconvert_exporter": "python",
   "pygments_lexer": "ipython3",
   "version": "3.7.10"
  }
 },
 "nbformat": 4,
 "nbformat_minor": 4
}
