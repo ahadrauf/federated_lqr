{
 "cells": [
  {
   "cell_type": "code",
   "execution_count": 2,
   "metadata": {},
   "outputs": [
    {
     "name": "stdout",
     "output_type": "stream",
     "text": [
      "The autoreload extension is already loaded. To reload it, use:\n",
      "  %reload_ext autoreload\n"
     ]
    }
   ],
   "source": [
    "%load_ext autoreload\n",
    "%autoreload 2"
   ]
  },
  {
   "cell_type": "code",
   "execution_count": 4,
   "metadata": {},
   "outputs": [],
   "source": [
    "# derived from https://github.com/cvxgrp/lfd_lqr/blob/master/small%20random.ipynb\n",
    "import numpy as np\n",
    "from scipy.linalg import solve_discrete_are\n",
    "import cvxpy as cp\n",
    "from ADMM import policy_fitting, policy_fitting_with_a_kalman_constraint\n",
    "import warnings\n",
    "# warnings.filterwarnings('ignore')"
   ]
  },
  {
   "cell_type": "code",
   "execution_count": 5,
   "metadata": {},
   "outputs": [],
   "source": [
    "np.random.seed(0)\n",
    "n, m = 4, 2\n",
    "A = np.random.randn(n, n)\n",
    "A = A / np.abs(np.linalg.eig(A)[0]).max()\n",
    "B = np.random.randn(n, m)\n",
    "W = .25 * np.eye(n)\n",
    "Q_true = np.eye(n)\n",
    "R_true = np.eye(m)\n",
    "P_true = solve_discrete_are(A, B, Q_true, R_true)\n",
    "K_true = -np.linalg.solve(R_true + B.T @ P_true @ B, B.T @ P_true @ A)"
   ]
  },
  {
   "cell_type": "code",
   "execution_count": 6,
   "metadata": {},
   "outputs": [],
   "source": [
    "def simulate(K, N=10, seed=None, add_noise=False):\n",
    "    if seed is not None:\n",
    "        np.random.seed(seed)\n",
    "    x = np.random.multivariate_normal(np.zeros(n), W)\n",
    "    xs = []\n",
    "    us = []\n",
    "    cost = 0.0\n",
    "    for _ in range(N):\n",
    "        u = K @ x\n",
    "        if add_noise:\n",
    "            u += 2*np.random.randn(m)\n",
    "        xs.append(x)\n",
    "        us.append(u)\n",
    "        cost += (x @ Q_true @ x + u @ R_true @ u) / N\n",
    "        x = A @ x + B @ u + np.random.multivariate_normal(np.zeros(n), W)\n",
    "    xs = np.array(xs)\n",
    "    us = np.array(us)\n",
    "    \n",
    "    return cost, xs, us"
   ]
  },
  {
   "cell_type": "code",
   "execution_count": null,
   "metadata": {},
   "outputs": [],
   "source": [
    "def simulate_variable_cost(A, B, Q_true, R_true, N=10, seed=None, add_noise=False):\n",
    "    P_true = solve_discrete_are(A, B, Q_true, R_true)\n",
    "    K = -np.linalg.solve(R_true + B.T @ P_true @ B, B.T @ P_true @ A)\n",
    "    \n",
    "    if seed is not None:\n",
    "        np.random.seed(seed)\n",
    "    x = np.random.multivariate_normal(np.zeros(n), W)\n",
    "    xs = []\n",
    "    us = []\n",
    "    cost = 0.0\n",
    "    for _ in range(N):\n",
    "        u = K @ x\n",
    "        if add_noise:\n",
    "            u += 2*np.random.randn(m)\n",
    "        xs.append(x)\n",
    "        us.append(u)\n",
    "        cost += (x @ Q_true @ x + u @ R_true @ u) / N\n",
    "        x = A @ x + B @ u + np.random.multivariate_normal(np.zeros(n), W)\n",
    "    xs = np.array(xs)\n",
    "    us = np.array(us)\n",
    "    \n",
    "    return cost, xs, us"
   ]
  },
  {
   "cell_type": "code",
   "execution_count": 7,
   "metadata": {},
   "outputs": [
    {
     "data": {
      "text/plain": [
       "(1.7934243186095473, 1.8031177219720185, 64.75750340186758)"
      ]
     },
     "execution_count": 7,
     "metadata": {},
     "output_type": "execute_result"
    }
   ],
   "source": [
    "N_test = 10000\n",
    "cost_true = simulate(K_true, N=N_test, seed=0)[0]\n",
    "cost_noise = simulate(K_true, N=N_test, seed=0, add_noise=True)[0] \n",
    "cost_true, np.trace(P_true @ W), cost_noise"
   ]
  },
  {
   "cell_type": "code",
   "execution_count": 8,
   "metadata": {},
   "outputs": [
    {
     "name": "stderr",
     "output_type": "stream",
     "text": [
      "/home/ahadrauf/anaconda3/envs/fedcontrol/lib/python3.7/site-packages/cvxpy/problems/problem.py:1126: UserWarning: Solution may be inaccurate. Try another solver, adjusting the solver settings, or solve with verbose=True for more information.\n",
      "  \"Solution may be inaccurate. Try another solver, \"\n",
      "/home/ahadrauf/anaconda3/envs/fedcontrol/lib/python3.7/site-packages/ipykernel_launcher.py:14: RuntimeWarning: overflow encountered in matmul\n",
      "  \n",
      "/home/ahadrauf/anaconda3/envs/fedcontrol/lib/python3.7/site-packages/ipykernel_launcher.py:9: RuntimeWarning: overflow encountered in matmul\n",
      "  if __name__ == '__main__':\n",
      "/home/ahadrauf/anaconda3/envs/fedcontrol/lib/python3.7/site-packages/ipykernel_launcher.py:9: RuntimeWarning: invalid value encountered in matmul\n",
      "  if __name__ == '__main__':\n",
      "/home/ahadrauf/anaconda3/envs/fedcontrol/lib/python3.7/site-packages/ipykernel_launcher.py:14: RuntimeWarning: invalid value encountered in matmul\n",
      "  \n",
      "/home/ahadrauf/anaconda3/envs/fedcontrol/lib/python3.7/site-packages/ipykernel_launcher.py:15: RuntimeWarning: invalid value encountered in matmul\n",
      "  from ipykernel import kernelapp as app\n",
      "/home/ahadrauf/anaconda3/envs/fedcontrol/lib/python3.7/site-packages/ipykernel_launcher.py:15: RuntimeWarning: overflow encountered in matmul\n",
      "  from ipykernel import kernelapp as app\n",
      "/home/ahadrauf/anaconda3/envs/fedcontrol/lib/python3.7/site-packages/ipykernel_launcher.py:14: RuntimeWarning: overflow encountered in double_scalars\n",
      "  \n",
      "/home/ahadrauf/anaconda3/envs/fedcontrol/lib/python3.7/site-packages/ipykernel_launcher.py:15: RuntimeWarning: invalid value encountered in add\n",
      "  from ipykernel import kernelapp as app\n"
     ]
    },
    {
     "name": "stdout",
     "output_type": "stream",
     "text": [
      " 001 | 1.793 | 64.758 | 7.175 | 10.221\n"
     ]
    },
    {
     "name": "stderr",
     "output_type": "stream",
     "text": [
      "/home/ahadrauf/anaconda3/envs/fedcontrol/lib/python3.7/site-packages/ipykernel_launcher.py:15: RuntimeWarning: overflow encountered in add\n",
      "  from ipykernel import kernelapp as app\n",
      "/home/ahadrauf/anaconda3/envs/fedcontrol/lib/python3.7/site-packages/ipykernel_launcher.py:29: RuntimeWarning: Mean of empty slice\n"
     ]
    },
    {
     "name": "stdout",
     "output_type": "stream",
     "text": [
      " 002 | 1.793 | 64.758 | nan | 25.338\n",
      " 003 | 1.793 | 64.758 | nan | 9.943\n",
      " 004 | 1.793 | 64.758 | nan | 6.237\n",
      " 005 | 1.793 | 64.758 | 167.778 | 4.792\n",
      " 006 | 1.793 | 64.758 | 25.953 | 4.665\n",
      " 007 | 1.793 | 64.758 | 47.339 | 4.472\n",
      " 008 | 1.793 | 64.758 | 21.648 | 3.643\n",
      " 009 | 1.793 | 64.758 | 28.426 | 3.355\n",
      " 010 | 1.793 | 64.758 | 11.493 | 2.983\n"
     ]
    },
    {
     "ename": "KeyboardInterrupt",
     "evalue": "",
     "output_type": "error",
     "traceback": [
      "\u001b[0;31m---------------------------------------------------------------------------\u001b[0m",
      "\u001b[0;31mKeyboardInterrupt\u001b[0m                         Traceback (most recent call last)",
      "\u001b[0;32m<ipython-input-8-bb356acc5753>\u001b[0m in \u001b[0;36m<module>\u001b[0;34m\u001b[0m\n\u001b[1;32m     15\u001b[0m \u001b[0;34m\u001b[0m\u001b[0m\n\u001b[1;32m     16\u001b[0m         \u001b[0mKlr\u001b[0m \u001b[0;34m=\u001b[0m \u001b[0mpolicy_fitting\u001b[0m\u001b[0;34m(\u001b[0m\u001b[0mL\u001b[0m\u001b[0;34m,\u001b[0m \u001b[0mr\u001b[0m\u001b[0;34m,\u001b[0m \u001b[0mxs\u001b[0m\u001b[0;34m,\u001b[0m \u001b[0mus\u001b[0m\u001b[0;34m)\u001b[0m\u001b[0;34m\u001b[0m\u001b[0;34m\u001b[0m\u001b[0m\n\u001b[0;32m---> 17\u001b[0;31m         \u001b[0mKadmm\u001b[0m \u001b[0;34m=\u001b[0m \u001b[0mpolicy_fitting_with_a_kalman_constraint\u001b[0m\u001b[0;34m(\u001b[0m\u001b[0mL\u001b[0m\u001b[0;34m,\u001b[0m \u001b[0mr\u001b[0m\u001b[0;34m,\u001b[0m \u001b[0mxs\u001b[0m\u001b[0;34m,\u001b[0m \u001b[0mus\u001b[0m\u001b[0;34m,\u001b[0m \u001b[0mA\u001b[0m\u001b[0;34m,\u001b[0m \u001b[0mB\u001b[0m\u001b[0;34m,\u001b[0m \u001b[0mn_random\u001b[0m\u001b[0;34m=\u001b[0m\u001b[0;36m5\u001b[0m\u001b[0;34m)\u001b[0m\u001b[0;34m\u001b[0m\u001b[0;34m\u001b[0m\u001b[0m\n\u001b[0m\u001b[1;32m     18\u001b[0m \u001b[0;34m\u001b[0m\u001b[0m\n\u001b[1;32m     19\u001b[0m         \u001b[0mcost_lr\u001b[0m \u001b[0;34m=\u001b[0m \u001b[0msimulate\u001b[0m\u001b[0;34m(\u001b[0m\u001b[0mKlr\u001b[0m\u001b[0;34m,\u001b[0m \u001b[0mN\u001b[0m\u001b[0;34m=\u001b[0m\u001b[0mN_test\u001b[0m\u001b[0;34m,\u001b[0m \u001b[0mseed\u001b[0m\u001b[0;34m=\u001b[0m\u001b[0;36m0\u001b[0m\u001b[0;34m)\u001b[0m\u001b[0;34m[\u001b[0m\u001b[0;36m0\u001b[0m\u001b[0;34m]\u001b[0m\u001b[0;34m\u001b[0m\u001b[0;34m\u001b[0m\u001b[0m\n",
      "\u001b[0;32m~/Research/federated_lqr/ADMM.py\u001b[0m in \u001b[0;36mpolicy_fitting_with_a_kalman_constraint\u001b[0;34m(L, r, xs, us_observed, A, B, n_random, niter, rho)\u001b[0m\n\u001b[1;32m    134\u001b[0m     \u001b[0mR\u001b[0m \u001b[0;34m=\u001b[0m \u001b[0mnp\u001b[0m\u001b[0;34m.\u001b[0m\u001b[0mzeros\u001b[0m\u001b[0;34m(\u001b[0m\u001b[0;34m(\u001b[0m\u001b[0mm\u001b[0m\u001b[0;34m,\u001b[0m \u001b[0mm\u001b[0m\u001b[0;34m)\u001b[0m\u001b[0;34m)\u001b[0m\u001b[0;34m\u001b[0m\u001b[0;34m\u001b[0m\u001b[0m\n\u001b[1;32m    135\u001b[0m     K = _policy_fitting_with_a_kalman_constraint(\n\u001b[0;32m--> 136\u001b[0;31m         L, r, xs, us_observed, A, B, P, Q, R, niter=niter, rho=rho)\n\u001b[0m\u001b[1;32m    137\u001b[0m \u001b[0;34m\u001b[0m\u001b[0m\n\u001b[1;32m    138\u001b[0m     \u001b[0mbest_K\u001b[0m \u001b[0;34m=\u001b[0m \u001b[0mK\u001b[0m\u001b[0;34m\u001b[0m\u001b[0;34m\u001b[0m\u001b[0m\n",
      "\u001b[0;32m~/Research/federated_lqr/ADMM.py\u001b[0m in \u001b[0;36m_policy_fitting_with_a_kalman_constraint\u001b[0;34m(L, r, xs, us_observed, A, B, P, Q, R, niter, rho)\u001b[0m\n\u001b[1;32m     74\u001b[0m         \u001b[0mobjective\u001b[0m \u001b[0;34m=\u001b[0m \u001b[0mcp\u001b[0m\u001b[0;34m.\u001b[0m\u001b[0mMinimize\u001b[0m\u001b[0;34m(\u001b[0m\u001b[0mL\u001b[0m\u001b[0;34m(\u001b[0m\u001b[0mKcp\u001b[0m\u001b[0;34m)\u001b[0m \u001b[0;34m+\u001b[0m \u001b[0mr_obj\u001b[0m \u001b[0;34m+\u001b[0m \u001b[0mcp\u001b[0m\u001b[0;34m.\u001b[0m\u001b[0mtrace\u001b[0m\u001b[0;34m(\u001b[0m\u001b[0mY\u001b[0m\u001b[0;34m.\u001b[0m\u001b[0mT\u001b[0m\u001b[0;34m@\u001b[0m\u001b[0mM\u001b[0m\u001b[0;34m)\u001b[0m \u001b[0;34m+\u001b[0m \u001b[0mrho\u001b[0m\u001b[0;34m/\u001b[0m\u001b[0;36m2\u001b[0m\u001b[0;34m*\u001b[0m\u001b[0mcp\u001b[0m\u001b[0;34m.\u001b[0m\u001b[0msum_squares\u001b[0m\u001b[0;34m(\u001b[0m\u001b[0mM\u001b[0m\u001b[0;34m)\u001b[0m\u001b[0;34m)\u001b[0m\u001b[0;34m\u001b[0m\u001b[0;34m\u001b[0m\u001b[0m\n\u001b[1;32m     75\u001b[0m         \u001b[0mprob\u001b[0m \u001b[0;34m=\u001b[0m \u001b[0mcp\u001b[0m\u001b[0;34m.\u001b[0m\u001b[0mProblem\u001b[0m\u001b[0;34m(\u001b[0m\u001b[0mobjective\u001b[0m\u001b[0;34m,\u001b[0m \u001b[0mr_cons\u001b[0m\u001b[0;34m)\u001b[0m\u001b[0;34m\u001b[0m\u001b[0;34m\u001b[0m\u001b[0m\n\u001b[0;32m---> 76\u001b[0;31m         \u001b[0mprob\u001b[0m\u001b[0;34m.\u001b[0m\u001b[0msolve\u001b[0m\u001b[0;34m(\u001b[0m\u001b[0msolver\u001b[0m\u001b[0;34m=\u001b[0m\u001b[0msolver\u001b[0m\u001b[0;34m)\u001b[0m\u001b[0;34m\u001b[0m\u001b[0;34m\u001b[0m\u001b[0m\n\u001b[0m\u001b[1;32m     77\u001b[0m         \u001b[0mK\u001b[0m \u001b[0;34m=\u001b[0m \u001b[0mKcp\u001b[0m\u001b[0;34m.\u001b[0m\u001b[0mvalue\u001b[0m\u001b[0;34m\u001b[0m\u001b[0;34m\u001b[0m\u001b[0m\n\u001b[1;32m     78\u001b[0m \u001b[0;34m\u001b[0m\u001b[0m\n",
      "\u001b[0;32m~/anaconda3/envs/fedcontrol/lib/python3.7/site-packages/cvxpy/problems/problem.py\u001b[0m in \u001b[0;36msolve\u001b[0;34m(self, *args, **kwargs)\u001b[0m\n\u001b[1;32m    399\u001b[0m         \u001b[0;32melse\u001b[0m\u001b[0;34m:\u001b[0m\u001b[0;34m\u001b[0m\u001b[0;34m\u001b[0m\u001b[0m\n\u001b[1;32m    400\u001b[0m             \u001b[0msolve_func\u001b[0m \u001b[0;34m=\u001b[0m \u001b[0mProblem\u001b[0m\u001b[0;34m.\u001b[0m\u001b[0m_solve\u001b[0m\u001b[0;34m\u001b[0m\u001b[0;34m\u001b[0m\u001b[0m\n\u001b[0;32m--> 401\u001b[0;31m         \u001b[0;32mreturn\u001b[0m \u001b[0msolve_func\u001b[0m\u001b[0;34m(\u001b[0m\u001b[0mself\u001b[0m\u001b[0;34m,\u001b[0m \u001b[0;34m*\u001b[0m\u001b[0margs\u001b[0m\u001b[0;34m,\u001b[0m \u001b[0;34m**\u001b[0m\u001b[0mkwargs\u001b[0m\u001b[0;34m)\u001b[0m\u001b[0;34m\u001b[0m\u001b[0;34m\u001b[0m\u001b[0m\n\u001b[0m\u001b[1;32m    402\u001b[0m \u001b[0;34m\u001b[0m\u001b[0m\n\u001b[1;32m    403\u001b[0m     \u001b[0;34m@\u001b[0m\u001b[0mclassmethod\u001b[0m\u001b[0;34m\u001b[0m\u001b[0;34m\u001b[0m\u001b[0m\n",
      "\u001b[0;32m~/anaconda3/envs/fedcontrol/lib/python3.7/site-packages/cvxpy/problems/problem.py\u001b[0m in \u001b[0;36m_solve\u001b[0;34m(self, solver, warm_start, verbose, gp, qcp, requires_grad, enforce_dpp, **kwargs)\u001b[0m\n\u001b[1;32m    816\u001b[0m             solver, gp, enforce_dpp)\n\u001b[1;32m    817\u001b[0m         solution = solving_chain.solve_via_data(\n\u001b[0;32m--> 818\u001b[0;31m             self, data, warm_start, verbose, kwargs)\n\u001b[0m\u001b[1;32m    819\u001b[0m         \u001b[0mself\u001b[0m\u001b[0;34m.\u001b[0m\u001b[0munpack_results\u001b[0m\u001b[0;34m(\u001b[0m\u001b[0msolution\u001b[0m\u001b[0;34m,\u001b[0m \u001b[0msolving_chain\u001b[0m\u001b[0;34m,\u001b[0m \u001b[0minverse_data\u001b[0m\u001b[0;34m)\u001b[0m\u001b[0;34m\u001b[0m\u001b[0;34m\u001b[0m\u001b[0m\n\u001b[1;32m    820\u001b[0m         \u001b[0;32mreturn\u001b[0m \u001b[0mself\u001b[0m\u001b[0;34m.\u001b[0m\u001b[0mvalue\u001b[0m\u001b[0;34m\u001b[0m\u001b[0;34m\u001b[0m\u001b[0m\n",
      "\u001b[0;32m~/anaconda3/envs/fedcontrol/lib/python3.7/site-packages/cvxpy/reductions/solvers/solving_chain.py\u001b[0m in \u001b[0;36msolve_via_data\u001b[0;34m(self, problem, data, warm_start, verbose, solver_opts)\u001b[0m\n\u001b[1;32m    339\u001b[0m         \"\"\"\n\u001b[1;32m    340\u001b[0m         return self.solver.solve_via_data(data, warm_start, verbose,\n\u001b[0;32m--> 341\u001b[0;31m                                           solver_opts, problem._solver_cache)\n\u001b[0m",
      "\u001b[0;32m~/anaconda3/envs/fedcontrol/lib/python3.7/site-packages/cvxpy/reductions/solvers/conic_solvers/mosek_conif.py\u001b[0m in \u001b[0;36msolve_via_data\u001b[0;34m(self, data, warm_start, verbose, solver_opts, solver_cache)\u001b[0m\n\u001b[1;32m    232\u001b[0m         \u001b[0;32mif\u001b[0m \u001b[0msave_file\u001b[0m\u001b[0;34m:\u001b[0m\u001b[0;34m\u001b[0m\u001b[0;34m\u001b[0m\u001b[0m\n\u001b[1;32m    233\u001b[0m             \u001b[0mtask\u001b[0m\u001b[0;34m.\u001b[0m\u001b[0mwritedata\u001b[0m\u001b[0;34m(\u001b[0m\u001b[0msave_file\u001b[0m\u001b[0;34m)\u001b[0m\u001b[0;34m\u001b[0m\u001b[0;34m\u001b[0m\u001b[0m\n\u001b[0;32m--> 234\u001b[0;31m         \u001b[0mtask\u001b[0m\u001b[0;34m.\u001b[0m\u001b[0moptimize\u001b[0m\u001b[0;34m(\u001b[0m\u001b[0;34m)\u001b[0m\u001b[0;34m\u001b[0m\u001b[0;34m\u001b[0m\u001b[0m\n\u001b[0m\u001b[1;32m    235\u001b[0m \u001b[0;34m\u001b[0m\u001b[0m\n\u001b[1;32m    236\u001b[0m         \u001b[0;32mif\u001b[0m \u001b[0mverbose\u001b[0m\u001b[0;34m:\u001b[0m\u001b[0;34m\u001b[0m\u001b[0;34m\u001b[0m\u001b[0m\n",
      "\u001b[0;32m~/anaconda3/envs/fedcontrol/lib/python3.7/site-packages/mosek/__init__.py\u001b[0m in \u001b[0;36moptimize\u001b[0;34m(self)\u001b[0m\n\u001b[1;32m   7622\u001b[0m         \u001b[0m_arg1_trmcode\u001b[0m\u001b[0;34m:\u001b[0m \u001b[0mmosek\u001b[0m\u001b[0;34m.\u001b[0m\u001b[0mrescode\u001b[0m\u001b[0;34m.\u001b[0m \u001b[0mIs\u001b[0m \u001b[0meither\u001b[0m \u001b[0mOK\u001b[0m \u001b[0;32mor\u001b[0m \u001b[0ma\u001b[0m \u001b[0mtermination\u001b[0m \u001b[0mresponse\u001b[0m \u001b[0mcode\u001b[0m\u001b[0;34m.\u001b[0m\u001b[0;34m\u001b[0m\u001b[0;34m\u001b[0m\u001b[0m\n\u001b[1;32m   7623\u001b[0m       \"\"\"\n\u001b[0;32m-> 7624\u001b[0;31m       \u001b[0mres\u001b[0m\u001b[0;34m,\u001b[0m\u001b[0mresargs\u001b[0m \u001b[0;34m=\u001b[0m \u001b[0mself\u001b[0m\u001b[0;34m.\u001b[0m\u001b[0m__obj\u001b[0m\u001b[0;34m.\u001b[0m\u001b[0moptimizetrm\u001b[0m\u001b[0;34m(\u001b[0m\u001b[0;34m)\u001b[0m\u001b[0;34m\u001b[0m\u001b[0;34m\u001b[0m\u001b[0m\n\u001b[0m\u001b[1;32m   7625\u001b[0m       \u001b[0;32mif\u001b[0m \u001b[0mres\u001b[0m \u001b[0;34m!=\u001b[0m \u001b[0;36m0\u001b[0m\u001b[0;34m:\u001b[0m\u001b[0;34m\u001b[0m\u001b[0;34m\u001b[0m\u001b[0m\n\u001b[1;32m   7626\u001b[0m         \u001b[0mresult\u001b[0m\u001b[0;34m,\u001b[0m\u001b[0mmsg\u001b[0m \u001b[0;34m=\u001b[0m \u001b[0mself\u001b[0m\u001b[0;34m.\u001b[0m\u001b[0m__getlasterror\u001b[0m\u001b[0;34m(\u001b[0m\u001b[0mres\u001b[0m\u001b[0;34m)\u001b[0m\u001b[0;34m\u001b[0m\u001b[0;34m\u001b[0m\u001b[0m\n",
      "\u001b[0;31mKeyboardInterrupt\u001b[0m: "
     ]
    }
   ],
   "source": [
    "costs_lr = []\n",
    "costs_admm = []\n",
    "costs_federated_admm_all_personalized = []\n",
    "costs_federated_admm_semi_personalized = []\n",
    "\n",
    "Ns = np.arange(1, 51)\n",
    "N_agents = 5\n",
    "for N in Ns:\n",
    "    costs_lr += [[]]\n",
    "    costs_admm += [[]]\n",
    "    for k in range(1, 11):\n",
    "        _, xs, us = simulate(K_true, N=N, seed=k, add_noise=True)\n",
    "\n",
    "        def L(K):\n",
    "            return cp.sum_squares(xs @ K.T - us)\n",
    "\n",
    "        def r(K):\n",
    "            return .01 * cp.sum_squares(K), []\n",
    "        \n",
    "        Klr = policy_fitting(L, r, xs, us)\n",
    "        Kadmm = policy_fitting_with_a_kalman_constraint(L, r, xs, us, A, B, n_random=5)\n",
    "        \n",
    "        cost_lr = simulate(Klr, N=N_test, seed=0)[0]\n",
    "        cost_admm = simulate(Kadmm, N=N_test, seed=0)[0]\n",
    "        \n",
    "        if np.isnan(cost_lr) or cost_lr > 1e5 or cost_lr == np.inf:\n",
    "            cost_lr = np.nan\n",
    "\n",
    "        costs_lr[-1].append(cost_lr)\n",
    "        costs_admm[-1].append(cost_admm)\n",
    "\n",
    "    print (\" %03d | %3.3f | %3.3f | %3.3f | %3.3f\" %\n",
    "           (N, cost_true, cost_noise, np.nanmean(costs_lr[-1]), np.nanmean(costs_admm[-1])))"
   ]
  },
  {
   "cell_type": "code",
   "execution_count": null,
   "metadata": {},
   "outputs": [],
   "source": []
  }
 ],
 "metadata": {
  "kernelspec": {
   "display_name": "Python 3",
   "language": "python",
   "name": "python3"
  },
  "language_info": {
   "codemirror_mode": {
    "name": "ipython",
    "version": 3
   },
   "file_extension": ".py",
   "mimetype": "text/x-python",
   "name": "python",
   "nbconvert_exporter": "python",
   "pygments_lexer": "ipython3",
   "version": "3.7.10"
  }
 },
 "nbformat": 4,
 "nbformat_minor": 4
}
